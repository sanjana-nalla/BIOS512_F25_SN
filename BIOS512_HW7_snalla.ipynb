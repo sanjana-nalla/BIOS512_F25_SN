{
  "cells": [
    {
      "cell_type": "markdown",
      "id": "766a4c53-5596-4e39-9082-8e97c8e59c41",
      "metadata": {
        "id": "766a4c53-5596-4e39-9082-8e97c8e59c41"
      },
      "source": [
        "# Homework 7\n",
        "This homework is based on the advanced Git lectures."
      ]
    },
    {
      "cell_type": "markdown",
      "id": "bbb6e943-d49a-4d2e-81f3-59c2d1a3be31",
      "metadata": {
        "id": "bbb6e943-d49a-4d2e-81f3-59c2d1a3be31"
      },
      "source": [
        "## Question 1\n",
        "#### What is the holy trinity of Git? (Just name the parts.)"
      ]
    },
    {
      "cell_type": "markdown",
      "source": [
        "Branch, Working Copy, Staging Area"
      ],
      "metadata": {
        "id": "0JDW2DY2X0bm"
      },
      "id": "0JDW2DY2X0bm"
    },
    {
      "cell_type": "markdown",
      "id": "47bc27c0-290e-4e94-a071-a37ff613a7c8",
      "metadata": {
        "id": "47bc27c0-290e-4e94-a071-a37ff613a7c8"
      },
      "source": [
        "## Question 2\n",
        "#### Explain how patches relate to the idea of committing a change to the history of your code?"
      ]
    },
    {
      "cell_type": "markdown",
      "source": [
        "When you commit a change, Git saves a diff (capturing the newly made changes between the two versions of the file). A patch then takes the diff and applies to the file, updating the relevant file."
      ],
      "metadata": {
        "id": "gKDVG6uAX35d"
      },
      "id": "gKDVG6uAX35d"
    },
    {
      "cell_type": "markdown",
      "id": "9aa99e0b-8fbe-4ccc-a728-b39b1fda153c",
      "metadata": {
        "id": "9aa99e0b-8fbe-4ccc-a728-b39b1fda153c"
      },
      "source": [
        "## Question 3\n",
        "#### What is the difference between a branch and a fork?"
      ]
    },
    {
      "cell_type": "markdown",
      "source": [
        "A branch is part of the original/same repository with shared project history. Branch serves as a separate line of development making it easier for multiple people to work on the same project. On the other hand, a fork is a entire copy of the repository hosted independently. The changes made on the fork will not affect the original repository."
      ],
      "metadata": {
        "id": "tNp3pqwRX5MR"
      },
      "id": "tNp3pqwRX5MR"
    },
    {
      "cell_type": "markdown",
      "id": "c6ac98c7-e4ea-4274-a88d-398cb739fab9",
      "metadata": {
        "id": "c6ac98c7-e4ea-4274-a88d-398cb739fab9"
      },
      "source": [
        "## Question 4\n",
        "#### How are diff and patch related? What’s the difference?"
      ]
    },
    {
      "cell_type": "markdown",
      "source": [
        "Diff compares two files and displays the lines changes (additions, deletions, etc). A patch applies the diff to another file and updates it."
      ],
      "metadata": {
        "id": "N7iuiA5wX4rs"
      },
      "id": "N7iuiA5wX4rs"
    },
    {
      "cell_type": "markdown",
      "id": "02988321-54d5-4086-a62f-d6f7a5961c22",
      "metadata": {
        "id": "02988321-54d5-4086-a62f-d6f7a5961c22"
      },
      "source": [
        "## Question 5\n",
        "#### See the diagram below.\n",
        "```\n",
        "alice            *-*-*-*-d-e     \n",
        "bob              *-*-*-*-a-b-c\n",
        "origin/main      *-*-*-*-a-b-c\n",
        "```\n",
        "#### a) What part of the Git trininty does each line represent?\n",
        "#### b) What would the result be if Alice performed a rebase? Edit the diagram. What would she type in the terminal to rebase, then push?\n",
        "#### c) What would the result be if Alice performed a merge? Edit the diagram. What would she type in the terminal to merge, then push?\n",
        "#### d) Which would be the better option (rebase vs. merge)? Why?"
      ]
    },
    {
      "cell_type": "markdown",
      "source": [
        "\n",
        "a.   'alice' and 'bob' both represent branches. 'origin/main' represents the remote branch.\n",
        "\n",
        "b.   She would type 'git rebase'.\n",
        "\n",
        "c. She would type 'git merge'.\n",
        "\n",
        "d. 'rebase' is a better option as it will not change the history and make it easier for working with collaborators. If you conducted a merge, you would get a,b,c from the remote branch and d,e in the current branch and arrange changes.\n",
        "\n"
      ],
      "metadata": {
        "id": "lrsueGiWab_U"
      },
      "id": "lrsueGiWab_U"
    },
    {
      "cell_type": "markdown",
      "id": "65b5eb8a-cee0-4a97-b89c-8746c37669ea",
      "metadata": {
        "id": "65b5eb8a-cee0-4a97-b89c-8746c37669ea"
      },
      "source": [
        "## Question 6\n",
        "#### Match the command/vocab word to the description.\n",
        "You can edit the table!\n",
        "\n",
        "| Command / Vocab     | Answer | Description |\n",
        "|---------------------|------------|------------|\n",
        "| git stash          |  | A.  Gives project history |\n",
        "| git push           |  | B.  Takes any changes that haven't been committed and puts them in a dust bin |\n",
        "| git clone          |  | C.  Shows who last modified each line of a file and in which commit |\n",
        "| git commit         |  | D.  Retrieves any commits on the remote branch that you don’t yet have locally and integrates them into your current branch |\n",
        "| git log            |  | E.  Moves something from the branch to the working copy |\n",
        "| git add -i         | | F.  Lists which files are staged, unstaged, and untracked |\n",
        "| git rebase         |  | G.  Displays information about a specific commit |\n",
        "| git init           |  | H.  Combines two branches together in a way that is not ideal for your collaborators |\n",
        "| git checkout       |  | I.  Adds changes from the working directory to the staging area |\n",
        "| git status         |  | J.  Pushes the new commits to the main branch |\n",
        "| git diff           |  | K.  Interactive staging! |\n",
        "| git merge          |  | L.  Text file that contains names of files Git should not track |\n",
        "| git add            |  | M.  Saves file changes to the main branch |\n",
        "| git pull           |  | N.  Makes a copy of an existing repo at in a new directory at another location |\n",
        "| git show           |  | O.  Compares current, unsaved changes to the main branch |\n",
        "| git blame          |  | P.  Combines branches by moving commits onto the tip of another branch, creating a linear history |\n",
        "| .gitignore         |  | Q. Creates a new git repository |"
      ]
    },
    {
      "cell_type": "markdown",
      "metadata": {
        "id": "ldsrborKaygN"
      },
      "source": [
        "question 6 **answer**\n",
        "\n",
        "| Command / Vocab     | Answer | Description |\n",
        "|---------------------|------------|------------|\n",
        "| git log          |  | A.  Gives project history |\n",
        "| git stash           |  | B.  Takes any changes that haven't been committed and puts them in a dust bin |\n",
        "| git blame          |  | C.  Shows who last modified each line of a file and in which commit |\n",
        "| git pull         |  | D.  Retrieves any commits on the remote branch that you don’t yet have locally and integrates them into your current branch |\n",
        "| git checkout            |  | E.  Moves something from the branch to the working copy |\n",
        "| git status        | | F.  Lists which files are staged, unstaged, and untracked |\n",
        "| git show         |  | G.  Displays information about a specific commit |\n",
        "| git merge           |  | H.  Combines two branches together in a way that is not ideal for your collaborators |\n",
        "| git add       |  | I.  Adds changes from the working directory to the staging area |\n",
        "| git push         |  | J.  Pushes the new commits to the main branch |\n",
        "| git add -i           |  | K.  Interactive staging! |\n",
        "| .gitignore          |  | L.  Text file that contains names of files Git should not track |\n",
        "| git commit            |  | M.  Saves file changes to the main branch |\n",
        "| git clone           |  | N.  Makes a copy of an existing repo at in a new directory at another location |\n",
        "| git diff           |  | O.  Compares current, unsaved changes to the main branch |\n",
        "| git rebase          |  | P.  Combines branches by moving commits onto the tip of another branch, creating a linear history |\n",
        "| git init         |  | Q. Creates a new git repository |"
      ],
      "id": "ldsrborKaygN"
    },
    {
      "cell_type": "markdown",
      "id": "36663f18-7e8a-4400-86ef-1cbda6b508c1",
      "metadata": {
        "id": "36663f18-7e8a-4400-86ef-1cbda6b508c1"
      },
      "source": [
        "## Question 7\n",
        "#### Walk me through how you would do interactive staging.\n",
        "#### a) Firstly, what situation would interactive staging be useful in?\n",
        "#### b) What command(s) help you prepare for what you'll see while interactive staging?\n",
        "*Hint*: Check the TA notes.\n",
        "#### c) What git command would you use to start interactive staging?\n",
        "\n",
        "#### d) On the text-based interactive menu, what option do you use?\n",
        "\n",
        "#### e) After pressing that option, how do you select the file you want to stage?\n",
        "\n",
        "#### f) What option do you type if you do not want to stage a hunk?\n",
        "\n",
        "#### g) Once you get to a hunk you want to stage, what do you do?\n",
        "\n",
        "#### h) What if we have more hunks we want to stage?\n",
        "\n",
        "** renamed the q parts, fyi\n"
      ]
    },
    {
      "cell_type": "markdown",
      "source": [
        "a. Interactive staging is useful when you have multiple changes that may be unrelated and want to commit them separately.\n",
        "\n",
        "b. 'git status', 'git diff'\n",
        "\n",
        "c. 'git add -i'\n",
        "\n",
        "d. type 'p' for patch\n",
        "\n",
        "e. You select the desired file by using the number corresponding with the listed file.\n",
        "\n",
        "f. type 'n' to not stage a hunk\n",
        "\n",
        "g. type 'y' to stage a hunk\n",
        "\n",
        "h. To stage more hunks, you would need to start another interactive session via 'git add -i', and repeat the earlier process of staging each relevant hunk."
      ],
      "metadata": {
        "id": "NEUm8baWh_zl"
      },
      "id": "NEUm8baWh_zl"
    }
  ],
  "metadata": {
    "kernelspec": {
      "display_name": "Python 3 (ipykernel)",
      "language": "python",
      "name": "python3"
    },
    "language_info": {
      "codemirror_mode": {
        "name": "ipython",
        "version": 3
      },
      "file_extension": ".py",
      "mimetype": "text/x-python",
      "name": "python",
      "nbconvert_exporter": "python",
      "pygments_lexer": "ipython3",
      "version": "3.10.16"
    },
    "colab": {
      "provenance": []
    }
  },
  "nbformat": 4,
  "nbformat_minor": 5
}